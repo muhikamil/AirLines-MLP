{
  "cells": [
    {
      "cell_type": "code",
      "execution_count": null,
      "metadata": {
        "colab": {
          "base_uri": "https://localhost:8080/"
        },
        "id": "I68EjVk4B5x8",
        "outputId": "1728ec39-41df-4c72-c642-24ee98a7a037"
      },
      "outputs": [
        {
          "output_type": "stream",
          "name": "stdout",
          "text": [
            "Mounted at /content/drive\n"
          ]
        }
      ],
      "source": [
        "from google.colab import drive, files\n",
        "drive.mount('/content/drive')"
      ]
    },
    {
      "cell_type": "markdown",
      "metadata": {
        "id": "7SPHmFMNBqLV"
      },
      "source": [
        "# CNN with VGG19 (BaseLine Model)"
      ]
    },
    {
      "cell_type": "markdown",
      "metadata": {
        "id": "Bs-eScJxBybD"
      },
      "source": [
        "Import Library"
      ]
    },
    {
      "cell_type": "code",
      "execution_count": null,
      "metadata": {
        "id": "HT310pcLBpro"
      },
      "outputs": [],
      "source": [
        "import tensorflow as tf\n",
        "import numpy as np\n",
        "import matplotlib.pyplot as plt\n",
        "from tensorflow.keras.preprocessing.image import ImageDataGenerator\n",
        "import matplotlib.image as mpimg\n",
        "from tensorflow.keras.models import Sequential\n",
        "from tensorflow.keras.layers import Conv2D, MaxPooling2D, Dense, Flatten, Dropout, BatchNormalization\n",
        "from tensorflow.keras.utils import plot_model\n",
        "from IPython.display import Image\n",
        "from tensorflow.keras.optimizers import Adam\n",
        "from tensorflow.keras.preprocessing import image\n",
        "from sklearn.metrics import confusion_matrix , classification_report\n",
        "from tensorflow.keras.applications.vgg19 import VGG19\n",
        "from sklearn.metrics import f1_score"
      ]
    },
    {
      "cell_type": "markdown",
      "metadata": {
        "id": "XR0ft8OrGKAp"
      },
      "source": [
        "Data Directory"
      ]
    },
    {
      "cell_type": "code",
      "execution_count": null,
      "metadata": {
        "id": "laSbisd1GAc-"
      },
      "outputs": [],
      "source": [
        "train_dir='/content/drive/MyDrive/Colab Notebooks/Data/Human Emotion Classification/train'\n",
        "test_dir='/content/drive/MyDrive/Colab Notebooks/Data/Human Emotion Classification/test'"
      ]
    },
    {
      "cell_type": "markdown",
      "metadata": {
        "id": "dp1meQaMHwp7"
      },
      "source": [
        "IMG Shape"
      ]
    },
    {
      "cell_type": "code",
      "execution_count": null,
      "metadata": {
        "id": "USJ_QVAxHxd9"
      },
      "outputs": [],
      "source": [
        "img_height, img_width, channel = [224,224,3]"
      ]
    },
    {
      "cell_type": "markdown",
      "metadata": {
        "id": "H0NgRd0DGMlk"
      },
      "source": [
        "Data Loading & Preprocessing"
      ]
    },
    {
      "cell_type": "code",
      "execution_count": null,
      "metadata": {
        "id": "Lqa3s8WkGO3R"
      },
      "outputs": [],
      "source": [
        "preprocess_fun = tf.keras.applications.vgg19.preprocess_input\n",
        "\n",
        "train_datagen= ImageDataGenerator(\n",
        "    rescale=1./255,\n",
        "    rotation_range=40,\n",
        "    width_shift_range=0.2,\n",
        "    height_shift_range=0.2,\n",
        "    shear_range=0.2,\n",
        "    zoom_range=0.2,\n",
        "    horizontal_flip=True,\n",
        "    fill_mode='nearest',\n",
        "    validation_split = 0.2,\n",
        "    preprocessing_function=preprocess_fun\n",
        ")\n",
        "val_datagen = ImageDataGenerator(rescale=1./255,validation_split = 0.2,preprocessing_function=preprocess_fun)\n",
        "\n",
        "test_datagen = ImageDataGenerator(rescale = 1./255, preprocessing_function=preprocess_fun)"
      ]
    },
    {
      "cell_type": "code",
      "execution_count": null,
      "metadata": {
        "colab": {
          "base_uri": "https://localhost:8080/"
        },
        "id": "IIMXQdXuHS1h",
        "outputId": "2b9fff91-065d-44a1-8fd5-338ae1a6d8b1"
      },
      "outputs": [
        {
          "output_type": "stream",
          "name": "stdout",
          "text": [
            "Found 1823 images belonging to 3 classes.\n",
            "Found 455 images belonging to 3 classes.\n",
            "Found 569 images belonging to 3 classes.\n"
          ]
        }
      ],
      "source": [
        "train_dataset = train_datagen.flow_from_directory(\n",
        "    train_dir,\n",
        "    target_size=(img_height, img_width),\n",
        "    batch_size=32,\n",
        "    shuffle=True,\n",
        "    class_mode='categorical',\n",
        "    subset='training'\n",
        ")\n",
        "val_dataset = val_datagen.flow_from_directory(\n",
        "    train_dir,\n",
        "    target_size=(img_height, img_width),\n",
        "    batch_size=32,\n",
        "    shuffle=True,\n",
        "    class_mode='categorical',\n",
        "    subset='validation'\n",
        ")\n",
        "\n",
        "test_dataset = test_datagen.flow_from_directory(\n",
        "    test_dir,\n",
        "    target_size=(img_height, img_width),\n",
        "    batch_size=32,\n",
        "    shuffle=False,\n",
        "    class_mode='categorical'\n",
        ")"
      ]
    },
    {
      "cell_type": "markdown",
      "metadata": {
        "id": "dYWLZAlVI6HE"
      },
      "source": [
        "Baseline Model VGG19"
      ]
    },
    {
      "cell_type": "code",
      "execution_count": null,
      "metadata": {
        "id": "jYnWz4mVIrtI",
        "colab": {
          "base_uri": "https://localhost:8080/"
        },
        "outputId": "770b9824-c2e2-42bd-9732-1055a4996e8d"
      },
      "outputs": [
        {
          "output_type": "stream",
          "name": "stdout",
          "text": [
            "Downloading data from https://storage.googleapis.com/tensorflow/keras-applications/vgg19/vgg19_weights_tf_dim_ordering_tf_kernels_notop.h5\n",
            "80134624/80134624 [==============================] - 0s 0us/step\n"
          ]
        }
      ],
      "source": [
        "vgg = VGG19(\n",
        "    include_top=False,\n",
        "    weights='imagenet',\n",
        "    input_shape=(img_height,img_width,channel)\n",
        ")"
      ]
    },
    {
      "cell_type": "code",
      "source": [
        "vgg.summary()"
      ],
      "metadata": {
        "colab": {
          "base_uri": "https://localhost:8080/"
        },
        "id": "q8xW8FNaDVQI",
        "outputId": "0e33abb9-cbfc-4ef5-afaa-4bc326e478d6"
      },
      "execution_count": null,
      "outputs": [
        {
          "output_type": "stream",
          "name": "stdout",
          "text": [
            "Model: \"vgg19\"\n",
            "_________________________________________________________________\n",
            " Layer (type)                Output Shape              Param #   \n",
            "=================================================================\n",
            " input_1 (InputLayer)        [(None, 224, 224, 3)]     0         \n",
            "                                                                 \n",
            " block1_conv1 (Conv2D)       (None, 224, 224, 64)      1792      \n",
            "                                                                 \n",
            " block1_conv2 (Conv2D)       (None, 224, 224, 64)      36928     \n",
            "                                                                 \n",
            " block1_pool (MaxPooling2D)  (None, 112, 112, 64)      0         \n",
            "                                                                 \n",
            " block2_conv1 (Conv2D)       (None, 112, 112, 128)     73856     \n",
            "                                                                 \n",
            " block2_conv2 (Conv2D)       (None, 112, 112, 128)     147584    \n",
            "                                                                 \n",
            " block2_pool (MaxPooling2D)  (None, 56, 56, 128)       0         \n",
            "                                                                 \n",
            " block3_conv1 (Conv2D)       (None, 56, 56, 256)       295168    \n",
            "                                                                 \n",
            " block3_conv2 (Conv2D)       (None, 56, 56, 256)       590080    \n",
            "                                                                 \n",
            " block3_conv3 (Conv2D)       (None, 56, 56, 256)       590080    \n",
            "                                                                 \n",
            " block3_conv4 (Conv2D)       (None, 56, 56, 256)       590080    \n",
            "                                                                 \n",
            " block3_pool (MaxPooling2D)  (None, 28, 28, 256)       0         \n",
            "                                                                 \n",
            " block4_conv1 (Conv2D)       (None, 28, 28, 512)       1180160   \n",
            "                                                                 \n",
            " block4_conv2 (Conv2D)       (None, 28, 28, 512)       2359808   \n",
            "                                                                 \n",
            " block4_conv3 (Conv2D)       (None, 28, 28, 512)       2359808   \n",
            "                                                                 \n",
            " block4_conv4 (Conv2D)       (None, 28, 28, 512)       2359808   \n",
            "                                                                 \n",
            " block4_pool (MaxPooling2D)  (None, 14, 14, 512)       0         \n",
            "                                                                 \n",
            " block5_conv1 (Conv2D)       (None, 14, 14, 512)       2359808   \n",
            "                                                                 \n",
            " block5_conv2 (Conv2D)       (None, 14, 14, 512)       2359808   \n",
            "                                                                 \n",
            " block5_conv3 (Conv2D)       (None, 14, 14, 512)       2359808   \n",
            "                                                                 \n",
            " block5_conv4 (Conv2D)       (None, 14, 14, 512)       2359808   \n",
            "                                                                 \n",
            " block5_pool (MaxPooling2D)  (None, 7, 7, 512)         0         \n",
            "                                                                 \n",
            "=================================================================\n",
            "Total params: 20024384 (76.39 MB)\n",
            "Trainable params: 0 (0.00 Byte)\n",
            "Non-trainable params: 20024384 (76.39 MB)\n",
            "_________________________________________________________________\n"
          ]
        }
      ]
    },
    {
      "cell_type": "markdown",
      "metadata": {
        "id": "BlbIT-MzNjX0"
      },
      "source": [
        "Freezing Layers"
      ]
    },
    {
      "cell_type": "code",
      "execution_count": null,
      "metadata": {
        "id": "POgGM4LJ22Ir"
      },
      "outputs": [],
      "source": [
        "for layer in vgg.layers:\n",
        "    layer.trainable=False"
      ]
    },
    {
      "cell_type": "markdown",
      "metadata": {
        "id": "VrgDSAHYI70M"
      },
      "source": [
        "Creating CNN Model"
      ]
    },
    {
      "cell_type": "code",
      "execution_count": null,
      "metadata": {
        "colab": {
          "base_uri": "https://localhost:8080/"
        },
        "id": "ICfOcvV8I-ZZ",
        "outputId": "a771f05f-999d-48df-8eb5-3f75abfa78e3"
      },
      "outputs": [
        {
          "output_type": "stream",
          "name": "stdout",
          "text": [
            "Model: \"sequential\"\n",
            "_________________________________________________________________\n",
            " Layer (type)                Output Shape              Param #   \n",
            "=================================================================\n",
            " vgg19 (Functional)          (None, 7, 7, 512)         20024384  \n",
            "                                                                 \n",
            " flatten (Flatten)           (None, 25088)             0         \n",
            "                                                                 \n",
            " dense (Dense)               (None, 128)               3211392   \n",
            "                                                                 \n",
            " batch_normalization (Batch  (None, 128)               512       \n",
            " Normalization)                                                  \n",
            "                                                                 \n",
            " dense_1 (Dense)             (None, 64)                8256      \n",
            "                                                                 \n",
            " dense_2 (Dense)             (None, 3)                 195       \n",
            "                                                                 \n",
            "=================================================================\n",
            "Total params: 23244739 (88.67 MB)\n",
            "Trainable params: 3220099 (12.28 MB)\n",
            "Non-trainable params: 20024640 (76.39 MB)\n",
            "_________________________________________________________________\n"
          ]
        }
      ],
      "source": [
        "models = Sequential()\n",
        "models.add(vgg)\n",
        "models.add(Flatten())\n",
        "\n",
        "#Extra Layer\n",
        "models.add(Dense(512,activation='relu', kernel_regularizer = tf.keras.regularizers.l2(0.01)))\n",
        "models.add(BatchNormalization())\n",
        "models.add(Dense(128, activation=\"relu\", kernel_regularizer = tf.keras.regularizers.l2(0.01)))\n",
        "models.add(BatchNormalization())\n",
        "models.add(Dense(64, activation='relu', kernel_regularizer = tf.keras.regularizers.l2(0.01)))\n",
        "models.add(Dense(3, activation='softmax'))\n",
        "\n",
        "models.summary()"
      ]
    },
    {
      "cell_type": "markdown",
      "metadata": {
        "id": "ObWi1J9XPJom"
      },
      "source": [
        "Plot Model CNN"
      ]
    },
    {
      "cell_type": "code",
      "execution_count": null,
      "metadata": {
        "colab": {
          "base_uri": "https://localhost:8080/",
          "height": 976
        },
        "id": "zq1IpbfbO8_K",
        "outputId": "bd1d1baf-8a27-4095-d7e6-00a9565135c6"
      },
      "outputs": [
        {
          "output_type": "execute_result",
          "data": {
            "image/png": "[encoded data removed]",
            "text/plain": [
              "<IPython.core.display.Image object>"
            ]
          },
          "metadata": {},
          "execution_count": 81
        }
      ],
      "source": [
        "plot_model(models, to_file='convnet.png', show_shapes=True,show_layer_names=True)\n",
        "Image(filename='convnet.png')"
      ]
    },
    {
      "cell_type": "markdown",
      "metadata": {
        "id": "rrBppXwwbCUi"
      },
      "source": [
        "Callbacks"
      ]
    },
    {
      "cell_type": "code",
      "execution_count": null,
      "metadata": {
        "id": "hEJ2x9AslkKs"
      },
      "outputs": [],
      "source": [
        "es = tf.keras.callbacks.EarlyStopping(monitor='val_loss',patience=15,verbose= 1,restore_best_weights=True)\n",
        "mcp = tf.keras.callbacks.ModelCheckpoint('model.h5',save_best_only=True,monitor='val_loss')\n",
        "lrd = tf.keras.callbacks.ReduceLROnPlateau(monitor = 'val_loss',patience = 10,verbose = 1,factor = 0.1, min_lr = 1e-10)"
      ]
    },
    {
      "cell_type": "markdown",
      "metadata": {
        "id": "sqRY-jNI4bua"
      },
      "source": [
        "Fitting Model"
      ]
    },
    {
      "cell_type": "code",
      "execution_count": null,
      "metadata": {
        "colab": {
          "base_uri": "https://localhost:8080/"
        },
        "id": "qrdn_a3xaPrS",
        "outputId": "107a753a-907d-4908-dded-228d7bdf342c"
      },
      "outputs": [
        {
          "output_type": "stream",
          "name": "stdout",
          "text": [
            "Epoch 1/30\n"
          ]
        },
        {
          "output_type": "stream",
          "name": "stderr",
          "text": [
            "/usr/local/lib/python3.10/dist-packages/keras/src/engine/training.py:3103: UserWarning: You are saving your model as an HDF5 file via `model.save()`. This file format is considered legacy. We recommend using instead the native Keras format, e.g. `model.save('my_model.keras')`.\n",
            "  saving_api.save_model(\n"
          ]
        },
        {
          "output_type": "stream",
          "name": "stdout",
          "text": [
            "57/57 - 40s - loss: 5217.8711 - accuracy: 0.3489 - val_loss: 1149.7026 - val_accuracy: 0.3846 - lr: 0.6000 - 40s/epoch - 697ms/step\n",
            "Epoch 2/30\n",
            "57/57 - 34s - loss: 530.9078 - accuracy: 0.3609 - val_loss: 217.8954 - val_accuracy: 0.2615 - lr: 0.6000 - 34s/epoch - 597ms/step\n",
            "Epoch 3/30\n",
            "57/57 - 33s - loss: 330.5213 - accuracy: 0.3390 - val_loss: 508.9557 - val_accuracy: 0.3648 - lr: 0.6000 - 33s/epoch - 587ms/step\n",
            "Epoch 4/30\n",
            "57/57 - 34s - loss: 121.3782 - accuracy: 0.3533 - val_loss: 31.1009 - val_accuracy: 0.3736 - lr: 0.6000 - 34s/epoch - 603ms/step\n",
            "Epoch 5/30\n",
            "57/57 - 35s - loss: 7.9478 - accuracy: 0.3763 - val_loss: 2.4495 - val_accuracy: 0.3736 - lr: 0.6000 - 35s/epoch - 611ms/step\n",
            "Epoch 6/30\n",
            "57/57 - 34s - loss: 1.9431 - accuracy: 0.3692 - val_loss: 1.5980 - val_accuracy: 0.2615 - lr: 0.6000 - 34s/epoch - 594ms/step\n",
            "Epoch 7/30\n",
            "57/57 - 34s - loss: 1.4433 - accuracy: 0.3741 - val_loss: 1.3230 - val_accuracy: 0.3648 - lr: 0.6000 - 34s/epoch - 598ms/step\n",
            "Epoch 8/30\n",
            "57/57 - 34s - loss: 1.2415 - accuracy: 0.3566 - val_loss: 1.1706 - val_accuracy: 0.3648 - lr: 0.6000 - 34s/epoch - 604ms/step\n",
            "Epoch 9/30\n",
            "57/57 - 37s - loss: 1.1745 - accuracy: 0.3653 - val_loss: 1.1376 - val_accuracy: 0.3736 - lr: 0.6000 - 37s/epoch - 643ms/step\n",
            "Epoch 10/30\n",
            "57/57 - 35s - loss: 1.1211 - accuracy: 0.3719 - val_loss: 1.1040 - val_accuracy: 0.3736 - lr: 0.6000 - 35s/epoch - 607ms/step\n",
            "Epoch 11/30\n",
            "57/57 - 34s - loss: 1.1171 - accuracy: 0.3522 - val_loss: 1.1245 - val_accuracy: 0.3648 - lr: 0.6000 - 34s/epoch - 592ms/step\n",
            "Epoch 12/30\n",
            "57/57 - 36s - loss: 1.1233 - accuracy: 0.3461 - val_loss: 1.1610 - val_accuracy: 0.3736 - lr: 0.6000 - 36s/epoch - 628ms/step\n",
            "Epoch 13/30\n",
            "57/57 - 34s - loss: 1.1280 - accuracy: 0.3505 - val_loss: 1.1142 - val_accuracy: 0.3736 - lr: 0.6000 - 34s/epoch - 593ms/step\n",
            "Epoch 14/30\n",
            "57/57 - 33s - loss: 1.1215 - accuracy: 0.3648 - val_loss: 1.1533 - val_accuracy: 0.2615 - lr: 0.6000 - 33s/epoch - 582ms/step\n",
            "Epoch 15/30\n",
            "57/57 - 36s - loss: 1.1316 - accuracy: 0.3527 - val_loss: 1.1960 - val_accuracy: 0.3648 - lr: 0.6000 - 36s/epoch - 629ms/step\n",
            "Epoch 16/30\n",
            "57/57 - 37s - loss: 1.1540 - accuracy: 0.3472 - val_loss: 1.1603 - val_accuracy: 0.3736 - lr: 0.6000 - 37s/epoch - 644ms/step\n",
            "Epoch 17/30\n",
            "57/57 - 34s - loss: 1.3097 - accuracy: 0.3363 - val_loss: 1.4853 - val_accuracy: 0.3736 - lr: 0.6000 - 34s/epoch - 596ms/step\n",
            "Epoch 18/30\n",
            "57/57 - 33s - loss: 1.4548 - accuracy: 0.3445 - val_loss: 1.4021 - val_accuracy: 0.3648 - lr: 0.6000 - 33s/epoch - 585ms/step\n",
            "Epoch 19/30\n",
            "57/57 - 36s - loss: 1.4187 - accuracy: 0.3527 - val_loss: 1.4293 - val_accuracy: 0.3648 - lr: 0.6000 - 36s/epoch - 638ms/step\n",
            "Epoch 20/30\n",
            "\n",
            "Epoch 20: ReduceLROnPlateau reducing learning rate to 0.06000000238418579.\n",
            "57/57 - 34s - loss: 1.4405 - accuracy: 0.3631 - val_loss: 1.4663 - val_accuracy: 0.3736 - lr: 0.6000 - 34s/epoch - 592ms/step\n",
            "Epoch 21/30\n",
            "57/57 - 35s - loss: 1.1291 - accuracy: 0.3681 - val_loss: 1.0874 - val_accuracy: 0.3736 - lr: 0.0600 - 35s/epoch - 611ms/step\n",
            "Epoch 22/30\n",
            "57/57 - 33s - loss: 1.0911 - accuracy: 0.3714 - val_loss: 1.0912 - val_accuracy: 0.3736 - lr: 0.0600 - 33s/epoch - 587ms/step\n",
            "Epoch 23/30\n",
            "57/57 - 34s - loss: 1.0904 - accuracy: 0.3544 - val_loss: 1.0892 - val_accuracy: 0.3648 - lr: 0.0600 - 34s/epoch - 591ms/step\n",
            "Epoch 24/30\n",
            "57/57 - 34s - loss: 1.0912 - accuracy: 0.3620 - val_loss: 1.0920 - val_accuracy: 0.3736 - lr: 0.0600 - 34s/epoch - 597ms/step\n",
            "Epoch 25/30\n",
            "57/57 - 34s - loss: 1.0903 - accuracy: 0.3598 - val_loss: 1.0882 - val_accuracy: 0.3736 - lr: 0.0600 - 34s/epoch - 589ms/step\n",
            "Epoch 26/30\n",
            "57/57 - 33s - loss: 1.0876 - accuracy: 0.3889 - val_loss: 1.1008 - val_accuracy: 0.3736 - lr: 0.0600 - 33s/epoch - 585ms/step\n",
            "Epoch 27/30\n",
            "57/57 - 34s - loss: 1.0901 - accuracy: 0.3823 - val_loss: 1.0923 - val_accuracy: 0.3736 - lr: 0.0600 - 34s/epoch - 594ms/step\n",
            "Epoch 28/30\n",
            "57/57 - 34s - loss: 1.0900 - accuracy: 0.3823 - val_loss: 1.0875 - val_accuracy: 0.3648 - lr: 0.0600 - 34s/epoch - 590ms/step\n",
            "Epoch 29/30\n",
            "57/57 - 35s - loss: 1.0894 - accuracy: 0.3741 - val_loss: 1.0865 - val_accuracy: 0.3736 - lr: 0.0600 - 35s/epoch - 620ms/step\n",
            "Epoch 30/30\n",
            "57/57 - 33s - loss: 1.0897 - accuracy: 0.3675 - val_loss: 1.0883 - val_accuracy: 0.3736 - lr: 0.0600 - 33s/epoch - 586ms/step\n"
          ]
        }
      ],
      "source": [
        "models.compile(optimizer=tf.optimizers.Adam(learning_rate=0.6),loss='categorical_crossentropy',metrics=['accuracy'])\n",
        "history= models.fit(\n",
        "      train_dataset,\n",
        "      steps_per_epoch=len(train_dataset),\n",
        "      epochs=30,\n",
        "      verbose=2,\n",
        "      validation_data=val_dataset,\n",
        "      callbacks=[mcp,es,lrd]\n",
        "      )"
      ]
    },
    {
      "cell_type": "markdown",
      "metadata": {
        "id": "aZuYZ6FL4dKX"
      },
      "source": [
        "Evaluate"
      ]
    },
    {
      "cell_type": "code",
      "execution_count": null,
      "metadata": {
        "id": "ek8LMyugmGRN",
        "colab": {
          "base_uri": "https://localhost:8080/"
        },
        "outputId": "5ffa3da8-9848-48ec-cb4a-ce5f441cba85"
      },
      "outputs": [
        {
          "output_type": "stream",
          "name": "stdout",
          "text": [
            "18/18 [==============================] - 3s 172ms/step - loss: 1.0884 - accuracy: 0.3743\n",
            "18/18 [==============================] - 3s 171ms/step\n"
          ]
        }
      ],
      "source": [
        "loss, accur = models.evaluate(test_dataset)\n",
        "preds = models.predict(test_dataset)\n",
        "y_preds = np.argmax(preds , axis = 1 )\n",
        "y_test = np.array(test_dataset.labels)"
      ]
    },
    {
      "cell_type": "code",
      "execution_count": null,
      "metadata": {
        "id": "0_1phy5SmpI5",
        "colab": {
          "base_uri": "https://localhost:8080/"
        },
        "outputId": "0ba32b3b-e234-420b-bd76-dfe6c4aabacf"
      },
      "outputs": [
        {
          "output_type": "stream",
          "name": "stdout",
          "text": [
            "Loss Data Training: 1.0896583795547485\n",
            "Akurasi Data Validasi: 0.37362638115882874\n",
            "Akurasi Data Testing: 0.3743409514427185\n",
            "F1Score Data Testing: 0.37434094903339193\n"
          ]
        }
      ],
      "source": [
        "f1s = f1_score(y_test,y_preds,average='micro')\n",
        "print(f'''Loss Data Training: {history.history['loss'][-1]}\n",
        "Akurasi Data Validasi: {history.history['val_accuracy'][-1]}\n",
        "Akurasi Data Testing: {accur}\n",
        "F1Score Data Testing: {f1s}''')"
      ]
    }
  ],
  "metadata": {
    "colab": {
      "provenance": []
    },
    "kernelspec": {
      "display_name": "Python 3",
      "name": "python3"
    },
    "language_info": {
      "name": "python"
    }
  },
  "nbformat": 4,
  "nbformat_minor": 0
}